{
 "cells": [
  {
   "metadata": {},
   "cell_type": "markdown",
   "source": [
    "- No arquivo process_pdfs tem toda a lógica. A falta a parte de tokenização, lematização e pos tagger. Isso pode ser feito com o *spacy*.\n",
    "- Além disso, no texto precisa remover alguns simbolos como: * \\n  ## e outros\n",
    "- Resolvi ir limpando o texto em partes devido aos padrões de cada seção do artigo."
   ],
   "id": "f6be318916239fb9"
  },
  {
   "cell_type": "code",
   "id": "initial_id",
   "metadata": {
    "collapsed": true,
    "ExecuteTime": {
     "end_time": "2025-04-29T00:38:51.932887Z",
     "start_time": "2025-04-29T00:38:49.889943Z"
    }
   },
   "source": [
    "import json\n",
    "from process_text import process_pdfs"
   ],
   "outputs": [],
   "execution_count": 1
  },
  {
   "metadata": {
    "ExecuteTime": {
     "end_time": "2025-04-29T00:42:21.091748Z",
     "start_time": "2025-04-29T00:38:53.080673Z"
    }
   },
   "cell_type": "code",
   "source": [
    "path_in = ['../articles/original/english', '../articles/original/portuguese']\n",
    "path_out = '../corpus'\n",
    "process_pdfs(path_in, path_out)"
   ],
   "id": "e474284f7aed6ec2",
   "outputs": [
    {
     "name": "stdout",
     "output_type": "stream",
     "text": [
      "Processing: ../articles/original/english/985-24769-1-10-20240923.pdf\n",
      "Processing: ../articles/original/english/985-24738-1-10-20240923.pdf\n",
      "Processing: ../articles/original/english/985-24747-1-10-20240923.pdf\n",
      "Processing: ../articles/original/english/985-24745-1-10-20240923.pdf\n",
      "Processing: ../articles/original/english/985-24746-1-10-20240923.pdf\n",
      "Processing: ../articles/original/english/985-24756-1-10-20240923.pdf\n",
      "Processing: ../articles/original/english/985-24754-1-10-20240923.pdf\n",
      "Processing: ../articles/original/english/985-24776-1-10-20240923.pdf\n",
      "Processing: ../articles/original/english/985-24759-1-10-20240923.pdf\n",
      "Processing: ../articles/original/english/985-24764-1-10-20240923.pdf\n",
      "Processing: ../articles/original/english/985-24758-1-10-20240923.pdf\n",
      "Processing: ../articles/original/english/985-24766-1-10-20240923.pdf\n",
      "Processing: ../articles/original/english/985-24762-1-10-20240923.pdf\n",
      "Processing: ../articles/original/english/985-24767-1-10-20240923.pdf\n",
      "Processing: ../articles/original/english/985-24752-1-10-20240923.pdf\n",
      "Processing: ../articles/original/english/985-24755-1-10-20240923.pdf\n",
      "Processing: ../articles/original/english/985-24740-1-10-20240923.pdf\n",
      "Processing: ../articles/original/english/985-24741-1-10-20240923.pdf\n",
      "Processing: ../articles/original/english/985-24739-1-10-20240923.pdf\n",
      "Processing: ../articles/original/english/985-24750-1-10-20240923.pdf\n",
      "Processing: ../articles/original/english/985-24751-1-10-20240923.pdf\n",
      "Processing: ../articles/original/english/985-24737-1-10-20240923.pdf\n",
      "Processing: ../articles/original/english/985-24768-1-10-20240923.pdf\n",
      "Processing: ../articles/original/portuguese/985-24772-1-10-20240923.pdf\n",
      "Processing: ../articles/original/portuguese/985-24774-1-10-20240923.pdf\n",
      "Processing: ../articles/original/portuguese/985-24763-2-10-20241004.pdf\n",
      "Processing: ../articles/original/portuguese/985-24749-1-10-20240923.pdf\n",
      "Processing: ../articles/original/portuguese/985-24773-1-10-20240923.pdf\n",
      "Processing: ../articles/original/portuguese/985-24757-1-10-20240923.pdf\n",
      "Processing: ../articles/original/portuguese/985-24775-1-10-20240923.pdf\n",
      "Processing: ../articles/original/portuguese/985-24753-2-10-20241004.pdf\n",
      "Processing: ../articles/original/portuguese/985-24761-1-10-20240923.pdf\n",
      "Processing: ../articles/original/portuguese/985-24748-1-10-20240923.pdf\n",
      "Processing: ../articles/original/portuguese/985-24770-1-10-20240923.pdf\n",
      "Processing: ../articles/original/portuguese/985-24771-2-10-20240925.pdf\n",
      "Processing: ../articles/original/portuguese/985-24743-1-10-20240923.pdf\n",
      "Processing: ../articles/original/portuguese/985-24742-1-10-20240923.pdf\n",
      "Processing: ../articles/original/portuguese/985-24744-1-10-20240923.pdf\n",
      "Processing: ../articles/original/portuguese/985-24760-1-10-20240923.pdf\n",
      "Processing: ../articles/original/portuguese/985-24765-1-10-20240923.pdf\n",
      "Finished processing\n"
     ]
    }
   ],
   "execution_count": 2
  },
  {
   "metadata": {
    "ExecuteTime": {
     "end_time": "2025-04-28T23:51:43.986954Z",
     "start_time": "2025-04-28T23:51:43.864280Z"
    }
   },
   "cell_type": "code",
   "outputs": [
    {
     "ename": "NameError",
     "evalue": "name 'json' is not defined",
     "output_type": "error",
     "traceback": [
      "\u001B[0;31m---------------------------------------------------------------------------\u001B[0m",
      "\u001B[0;31mNameError\u001B[0m                                 Traceback (most recent call last)",
      "Cell \u001B[0;32mIn[1], line 2\u001B[0m\n\u001B[1;32m      1\u001B[0m \u001B[38;5;28;01mwith\u001B[39;00m \u001B[38;5;28mopen\u001B[39m(\u001B[38;5;124m'\u001B[39m\u001B[38;5;124m../corpus/corpus.json\u001B[39m\u001B[38;5;124m'\u001B[39m, \u001B[38;5;124m\"\u001B[39m\u001B[38;5;124mrb\u001B[39m\u001B[38;5;124m\"\u001B[39m) \u001B[38;5;28;01mas\u001B[39;00m f:\n\u001B[0;32m----> 2\u001B[0m     corpus \u001B[38;5;241m=\u001B[39m \u001B[43mjson\u001B[49m\u001B[38;5;241m.\u001B[39mload(f)\n",
      "\u001B[0;31mNameError\u001B[0m: name 'json' is not defined"
     ]
    }
   ],
   "execution_count": 1,
   "source": [
    "with open('../corpus/corpus.json', \"rb\") as f:\n",
    "    corpus = json.load(f)"
   ],
   "id": "4b38dbf1afb5c232"
  },
  {
   "metadata": {
    "ExecuteTime": {
     "end_time": "2025-04-29T00:29:23.934555Z",
     "start_time": "2025-04-29T00:29:22.544130Z"
    }
   },
   "cell_type": "code",
   "source": [
    "import pymupdf4llm\n",
    "\n",
    "text = pymupdf4llm.to_markdown('../articles/original/portuguese/985-24770-1-10-20240923.pdf')"
   ],
   "id": "6b64bab290d63f85",
   "outputs": [],
   "execution_count": 3
  },
  {
   "metadata": {
    "ExecuteTime": {
     "end_time": "2025-04-29T00:29:25.125711Z",
     "start_time": "2025-04-29T00:29:25.118982Z"
    }
   },
   "cell_type": "code",
   "source": "text",
   "id": "50894caad3c3ce29",
   "outputs": [
    {
     "data": {
      "text/plain": [
       "'# **Um framework de rastreamento corporal para reabilitação** **neuromotora com suporte a aplicativos multimídia**\\n\\n## Marcelo Guimarães\\n#### marcelo.paiva@unifesp.br Universidade Federal de São Paulo (UNIFESP) Osasco, SP, Brasil\\n## Diego Dias\\n#### diego.dias@ufes.br Universidade Federal do Espírito Santo (UFES) Vitória, ES, Brasil\\n\\n## Elvis Ribeiro\\n#### elvishribeiro@gmail.com Universidade Federal de São João del-Rei (UFSJ) São João del-Rei, MG, Brasil\\n## Leonardo Rocha\\n#### lcrocha@ufsj.edu.br Universidade Federal de São João del-Rei (UFSJ) São João del-Rei, MG, Brasil\\n### ABSTRACT\\n\\n## Alexandre Brandão\\n#### alexandre.brandao@puc- campinas.edu.br Universidade Pontifícia Católica de Campinas (PUC-Campinas) Campinas, SP, Brasil\\n## José Remo Brega\\n#### remo.brega@unesp.br Universidade Estadual Paulista (UNESP) Bauru, SP, Brasil\\n\\n\\nMultimedia applications and games play a crucial role\\nin rehabilitation and health, providing an interactive and\\nengaging approach that can improve patient motivation,\\nfacilitate progress monitoring, and personalize treatment\\nplans. They offer an innovative physical and cognitive therapy platform, allowing healthcare professionals to explore\\nnew forms of treatment and patients to experience a more\\nenjoyable and effective recovery. Despite recent advances\\nin hardware and software, integrated solutions still need\\nto be developed to facilitate the development of new applications, especially those that use body-tracking sensors.\\nThis paper presents the framework for a development solution that simplifies the creation of new natural user interface (NUI) applications based on inertial sensors, supporting\\nboth tracking and the creation of sessions and data storage. We also present examples of applications developed\\nto show the potential of the solution for developing new\\napplications that use the user’s own body as a means of\\n\\ninteraction.\\n### KEYWORDS\\n\\nRealidade Virtual, Jogos Sérios, Multimídia, Reabilitação\\nNeuromotora, Sensores, Rastreamento Corporal, Desenvolvimento de Software\\n### 1 INTRODUÇÃO\\n\\nAs aplicações multimídia e jogos são ferramentas de extrema importância na saúde e reabilitação motora. Elas oferecem uma abordagem lúdica e interativa para diversos tipos\\nde tratamento, aumentando a motivação do paciente e promovendo o engajamento em diversos tipos de tratamento.\\nAlém disso, permitem o monitoramento preciso do progresso\\n\\nIn: Proceedings of the Brazilian Symposium on Multimedia and the\\nWeb (WebMedia’2024). Juiz de Fora, Brazil. Porto Alegre: Brazilian\\n\\nComputer Society, 2024.\\n© 2024 SBC – Brazilian Computing Society.\\nISSN 2966-2753\\n\\n\\ndo paciente e personalização do plano de tratamento. No contexto de reabilitação neuromotora, por exemplo, ao tornar\\no processo de reabilitação mais agradável e envolvente, essas tecnologias podem contribuir significativamente para a\\nrecuperação do paciente [10].\\nCom o avançar da idade o homem desenvolve doenças que\\npoderiam ser controladas pela prática regular de atividades\\nfísicas, como a sarcopenia, osteoporose, obesidade e cardiopatias. O atual cenário de inatividade física [ 6, 9 ] está associado\\na problemas de saúde pública e aumento de doenças nãotransmissíveis (aterosclerose, diabetes tipo 2 e carcinomas),\\nconsiderando a cultura e o estilo de vida como estratégias\\nde prevenção e promoção de saúde. Neste cenário, busca-se\\natividades que envolvam grandes grupos musculares, como\\nos músculos dos membros inferiores, para promover uma intensa circulação sanguínea e um aumento consequente no\\ngasto energético durante a realização dessas atividades. Por\\nexemplo, movimentos corporais que simulem a caminhada\\npossuem características que contemplam estas exigências.\\nContrariando a antiga crença de que o cérebro humano é\\nimutável, Kesselring [7] aponta que devido à neuroplasticidade do cérebro, o sistema nervoso central do ser humano\\nadulto tem uma excelente capacidade de recuperação espontânea. Ademais, os exercícios terapêuticos influenciam positivamente na recuperação, acelerando e fortalecendo-a. Desta\\nforma, o emprego de aplicações multimídia, principalmente\\njogos sérios, pode ser empregado como ferramenta auxiliar\\nem diversos cenários de reabilitação, entre eles a reabilitação\\nda capacidade neuromotora de pacientes acometidos por um\\nAcidente Vascular Cerebral (AVC), ou como incentivo na\\nreabilitação de pacientes que apresentam dificuldades na\\nmovimentação de membros inferiores.\\nA busca de novas modalidades de entretenimento, que\\natendam requisitos necessários ao aumento significativo de\\natividade física, são de grande interesse social, melhor aceito\\npela população quando inserida de forma lúdica e apresentada em ambientes interativos e imersivos de RV. Maloney\\net al . [8] indicam que os jogos interativos digitais são potencialmente benéficos ao aumento da realização de atividades\\n\\n\\n292\\n\\n\\n-----\\n\\nWebMedia’2024, Juiz de Fora, Brazil Ribeiro et al.\\n\\n\\nfísicas na população infantil. Como mostrado por Guimaraes\\net al . [5], o cansaço físico é um fator limitante ao tempo de\\ninteração do usuário com tecnologias virtuais baseada em\\ngestos, evidenciando que um maior grau de fortalecimento\\nda musculatura do corpo poderia colaborar com o aumento\\nde tempo de interação dos usuários com as iminentes tecnologias suportadas por gestos corporais, tais como o controle de\\ntelevisores inteligentes por meio de movimentos com as mãos,\\nsendo assim um movimento natural ao cotidiano do usuário.\\n\\nAs aplicações de multimídia vêm desempenhando um papel\\nimportante nos dias atuais e estão presente nas mais diversas\\náreas, incluindo como ferramenta no auxílio de reabilitação\\n\\n[ 1, 3, 15 ]. A interação é parte essencial do engajamento do\\nusuário com o ambiente virtual, podendo ser alcançada por\\nmeio de controles, toques ou até mesmo gestos. A solução\\napresentada no trabalho utiliza-se da interação natural do\\nusuário (NUI), sendo estes captados por meio de sensores\\ninerciais embarcados. A interação entre o usuário e o sistema\\ndeve ser, idealmente, o mais natural possível. Em sistemas\\nde realidade virtual (RV), por exemplo, em que a imersão\\nimpossibilita o uso de teclados, mouses e telas sensíveis ao\\ntoque, a interação é realizada por meio de soluções específicas como *joysticks*, gestos e voz. Em casos onde o usuário é\\nincapaz de operar um *joystick*, ou quando se deseja estimular\\na movimentação corporal, a interação por meios de gestos\\ncorporais se mostra uma excelente escolha.\\nTecnologias de rastreamento corporal vêm sendo utilizadas\\nlargamente na indústria de jogos [ 4 ]. Dispositivos de rastreamento óticos, tal como o *Kinect* da Microsoft ou soluções\\n*Mocap* [1], utilizam visão computacional para rastrear o corpo\\nhumano [ 14 ]. Porém, o uso do Kinect apresenta limitações\\ncomo liberdade, precisão e oclusão, o que limita o movimento\\ndo usuário ao campo de visão do dispositivo e impossibilita a\\ncaptura de movimentos do usuário em posição lateral (se utilizado apenas um dispositivo). Tais problemas são mitigados\\nquando empregadas as soluções *Mocap*, visto que utilizam\\nmúltiplas câmeras de captura e diversos marcadores anexados ao corpo do usuário, porém o preço elevado é um fator\\nobstante na escolha de uma solução boa e razoavelmente\\nbarata. Neste trabalho, utilizamos o *biomechanical sensor*\\n*node* (BSN) como dispositivo de interação.\\nO BSN [ 2 ] é um dispositivo de rastreamento corporal inovador desenvolvido por Brandão e sua equipe. Ele utiliza uma\\nrede de sensores colocados estrategicamente no corpo para\\ncapturar movimentos e posturas em tempo real, permitindo\\nque o usuário possa controlar ambientes virtuais por meio da\\nNUI. Esses dados são então processados e utilizados para criar\\numa representação digital precisa do usuário. O BSN tem\\naplicações potenciais em uma variedade de campos, incluindo\\nreabilitação física, esportes e entretenimento interativo. Sua\\nprecisão e facilidade de uso o tornam uma ferramenta valiosa\\npara profissionais e pesquisadores dessas áreas.\\nA principal justificativa desse trabalho está relacionada a\\ndificuldade em se simular a interação do usuário dentro de\\n\\n1 Rastreamento corporal através de marcadores presos ao corpo do\\nusuário e diversas câmeras de alta definição circundando o ambiente.\\n\\n\\num ambiente virtual de maneira intuitiva e imersiva. Outro\\n\\nbenefício, no que tange o uso de ambientes virtuais, é a possibilidade do usuário realizar o treinamento em um ambiente\\n\\ncontrolado e seguro, visto que o ambiente virtual não gera\\nperigo real, quando comparado a um ambiente real de treinamento. Portanto, pesquisas voltadas a meios de interação\\nde ambientes virtuais são importantes ao desenvolvimento e\\ndifusão de novas aplicações.\\nApresentamos neste trabalho a definição do framework de\\nrastreamento corporal, que possibilita a criação de aplicações\\nde NUI utilizando o dispositivo BSN, assim como a criação e\\narmazenamento de sessões de fisioterapia, contexto apresentado como exemplo para a criação de aplicações voltadas à\\nreabilitação neuromotora. Outras aplicações exemplo também\\nsão apresentadas.\\n### 2 METODOLOGIA\\n\\nDesenvolver um framework envolve uma série de etapas\\nmetodológicas. Primeiro, é necessário identificar e entender\\nclaramente o problema ou a necessidade que o framework se\\npropõe a resolver. Em seguida, é importante realizar uma\\nanálise aprofundada do domínio do problema para identificar\\npadrões comuns e abstrações. Com base nessa análise, o próximo passo é projetar a arquitetura do framework, definindo\\nsuas principais classes e interfaces, bem como suas interações.\\nA implementação do framework deve ser feita de forma modular e extensível, permitindo que os desenvolvedores personalizem e estendam sua funcionalidade conforme necessário.\\nPor fim, é crucial fornecer documentação detalhada e exemplos de uso para ajudar os desenvolvedores a entender e\\nutilizar o framework efetivamente. É importante notar que o\\ndesenvolvimento de um framework é um processo iterativo\\nque requer refinamento e evolução contínuos com base no\\nfeedback dos usuários e nas mudanças nas necessidades do\\ndomínio.\\n\\nO primeiro passo foi levantar quais requisitos comuns\\nas aplicações beneficiadas pelo uso do framework possuem.\\nForam levantados alguns requisitos funcionais, tais como:\\nconexão de múltiplos BSNs – a possibilidade de sincronizar\\nvários BSNs para controlar diferentes partes do corpo humano; interface de fácil utilização – uma interface intuitiva,\\nque permita a descoberta e conexão dos dispositivos BSN; e\\nconfiguração remota – a possibilidade de realizar a configuração a partir de outro dispositivo ( *smartphone* ou *desktop* ).\\nAdotamos a arquitetura Modelo-Visão-Controle (MVC) e\\nseguimos o paradigma orientado a eventos. O MVC é um\\npadrão de design amplamente utilizado na programação de\\nsoftware que separa os componentes de um sistema em três\\npartes distintas. Dessa forma, o asset fica completamente\\nencapsulado, deixando toda a parte de configuração dos BSN\\ntransparente para o programador/usuário.\\n### 2.1 Modelo\\n\\nO Modelo é o módulo responsável por fazer a gerência\\ndos dispositivos BSN, a coleta de dados e a rotação dos\\n\\n\\n293\\n\\n\\n-----\\n\\nUm framework de rastreamento corporal para reabilitação neuromotora com suporte a aplicativos multimídia WebMedia’2024, Juiz de Fora, Brazil\\n\\n\\nobjetos virtuais. É composto pela API [2] de *BLE* BluetoothHardwareInterface, pela classe BSNHardwareInterface. Ela\\nnão armazena os dados do BSN, mas sim uma lista de uma\\nnova classe, a classe BSNDevice, que abstrai um dispositivo\\nBSN e a RotatableObject, que é a classe que de fato está\\ndisponível para ser usada pelo programador.\\nA classe BSNHardwareInterface é responsável apenas por\\nrealizar a comunicação com o BluetoothHardwareInterface e\\npor armazenar uma lista de BSNDevices. Após receber o comando FindBSN, por meio da ConfigurationAPI, é iniciado o\\nprocesso de descoberta. Sempre que um *beacon* [3] é encontrado,\\na BSNHardwareInterface recebe uma resposta contendo o\\nnome e o endereço MAC do dispositivo, em seguida adicionao à lista de BSNs e envia uma resposta à ConfigurationAPI,\\ninformando que o dispositivo foi encontrado. Esse processo\\né assíncrono e sempre é executado ao encontrar um novo\\n*beacon*, toda a comunicação sendo feita por meio de *callbacks* .\\nO procedimento de conexão de um BSN é análogo ao\\nde descoberta. A ConfigurationAPI envia o comando de\\nconexão, passando como parâmetro o endereço do dispositivo\\nque deseja conectar. Esse comando de conexão é repassado\\naté o dispositivo BLE, que eventualmente responde o sucesso\\nde conexão informando todos os serviços e características\\ndisponíveis. Nesse momento o objeto *BSNDevice* cadastra\\nseus *delegates* para receberem os dados sempre que forem\\natualizados no BSN.\\n\\nA classe BSNDevice representa um BSN na aplicação,\\ncontendo seu nome, endereço e um campo booleano que\\nindica se está conectada. Ela conta também com um objeto\\nda classe RotatableObject, responsável por manipular objetos\\n3D no Unity [4], possuindo métodos que de fato lidam com os\\ndados do BSN. Portanto, a BSNDevice não lida com os dados\\npropriamente dito, apenas os repassa à RotatableObject.\\nSendo assim, é possível intercambiar o objeto controlado por\\num BSN em tempo de execução.\\nA classe RotatableObject oferece os métodos que recebem\\ndados que são chamados pela BSNDevice a cada *notify* [5] do\\nBSN, a aceleração linear, dados brutos e vetor de gravidade,\\nsendo eles LinearAccHandler(Vector3 linAcc), RawDataHandler(Vector3 accelerometer, Vector3 gyroscope, Vector3 compass) e GravityVectorHandler(Vector3 gravityVector), respectivamente. Esses métodos não são implementados e devem\\nser implementados pelo usuário programador. O método\\nResetOffset() também está disponível e deve ser chamado\\nsempre que se desejar compensar a rotação do BSN.\\nA fim de sanar a diferença de orientação entre o dispositivo\\ne o ambiente virtual, a classe RotatableObject possui duas\\nfuncionalidades: a troca de um eixo com outro e a inversão\\n\\ndo sentido de um eixo. Ambas funcionalidades são úteis para\\n\\n2 *Application Programming Interface*\\n3 Sinal do transmissor BLE do BSN.\\n4 O Unity é uma plataforma de desenvolvimento em tempo real, líder\\nno mercado mundial, que permite a criação de jogos e simulações\\n2D e 3D para diversas plataformas (PC, consoles, mobile, VR e AR),\\nutilizando um editor visual e programação através de scripting, oferecendo ferramentas profissionais capazes de atender aos requisitos de\\nqualquer jogo.\\n5 Envio de dados de um dispositivo BLE.\\n\\n\\ncorrigir a orientação do eixo dependendo da posição em que\\no BSN é anexado ao corpo do usuário.\\nSurge uma outra questão quando queremos que a posição\\ninicial do BSN seja diferente da posição padrão – *T-pose* [6] .\\nSempre que inicializado, o BSN precisa ser mantido em repouso na horizontal por aproximadamente 30 segundos antes\\nde começar a utilizá-lo, a fim de calibrar os sensores. No caso\\nem que o objeto controlado é a perna de um avatar, o BSN\\né anexado verticalmente na coxa do usuário, gerando uma\\nrotação imprevisível na coxa quando a rotação deveria ser\\nzero. Tendo isso em vista, é necessário a aplicação de um\\n*offset* sobre a rotação do BSN, de tal modo que:\\n\\n*𝑄* *𝑜𝑏𝑗𝑒𝑡𝑜* = *𝑄* *𝑜𝑓𝑓𝑠𝑒𝑡* ** 𝑄* *𝐵𝑆𝑁* *.* (1)\\n\\nO *𝑄* *𝑜𝑓𝑓𝑠𝑒𝑡* deve ser calculado sempre que se deseja compensar a rotação, ou seja, definir a rotação atual como rotação\\nzero. O cálculo é dado a partir da Equação 1, multiplicando o\\nInverso da *𝑄* *𝑟𝑜𝑡𝑎* çã *𝑜𝑑𝑜𝐵𝑆𝑁* em ambos os lados da equação.\\n\\n*−* 1 *−* 1\\n*𝑄* *𝑜𝑏𝑗𝑒𝑡𝑜* ** 𝑄* *𝐵𝑆𝑁* = *𝑄* *𝑜𝑓𝑓𝑠𝑒𝑡* ** 𝑄* *𝐵𝑆𝑁* ** 𝑄* *𝐵𝑆𝑁* (2)\\n\\n*−* 1\\n*𝑄* *𝑜𝑓𝑓𝑠𝑒𝑡* = *𝑄* *𝑜𝑏𝑗𝑒𝑡𝑜* ** 𝑄* *𝐵𝑆𝑁* (3)\\nAo ser adicionada a um *GameObject* no Unity, a classe\\nRotatableObject oferece campos de configuração no *Inspec-*\\n*tor* . Outros dois campos são criados. O campo *Simplified*\\n*Name* é um apelido que é dado ao objeto que é mostrado\\nna interface de configuração; já o campo *Precision Points*\\ndelimita o número de casas decimais que são utilizadas na\\nrotação. Seu valor padrão é dois, obtido após testes empíricos\\nonde foi possível observar que mais de duas casas decimais é\\nmajoritariamente ruído.\\n### 2.2 Visão\\n\\nO módulo Visão é composto por uma interface criada no\\nUnity com auxílio do *asset* de ícones e animações *Modern*\\n*UI Pack* [ 11 ]. Este módulo possui duas classes: UIController,\\numa classe que gerencia a interface; e NetConfigurationServer,\\nque realiza a comunicação de rede.\\nComo a proposta foi criar um *asset* de integração em\\nque fosse possível funcionar em novos projetos e também\\nprojetos legados, a interface foi projetada para ser o menos\\ninvasiva possível. A interface possui um botão cuja função é\\nativar e desativar a interface de configuração, que se encontra\\ninicialmente desativada (Figura 1a).\\nA tela de configuração é composta por um botão de iniciar\\nbusca, um painel onde são listados os BSNs encontrados e\\no botão que compensa (atribui o *offset* ) a rotação de todos\\nos BSNs. O botão de busca permanece desabilitado até que\\nse encontre um servidor de configuração (apresentado da\\nSeção 2.3). Após iniciada a busca, cada BSN encontrado é\\nadicionado no painel. O item que representa o BSN encontrado conta com o nome e o endereço MAC do dispositivo,\\ncomo também um menu suspenso para escolha de qual objeto\\ndeseja-se controlar e um botão de conexão.\\n\\n6 Na animação por computador, a T-pose é uma pose padrão para o\\nesqueleto de um modelo 3D antes de ser animado.\\n\\n\\n294\\n\\n\\n-----\\n\\nWebMedia’2024, Juiz de Fora, Brazil Ribeiro et al.\\n\\ntoda interação é disparada pelo usuário final por meio da\\ninterface (passos 5, 6 e 7).\\n### 2.3 Controle\\n\\n\\n(a) Menu de configuração desativado.\\n\\n\\n(b) Buscando um servidor na\\nrede.\\n\\n\\nO Controle é a camada responsável por receber comandos\\ne aplicá-los ao Modelo, como também retornar à Visão o\\nestado atual do Modelo. É composto por uma Interface de\\nProgramação de Aplicação (API) de configuração que dispõe\\nde métodos necessários para uma sessão de uso do *asset* .\\nEm conjunto com a ConfigurationAPI, a classe NetConfigurationServer atua como uma classe que aguarda comandos da\\nrede, permitindo a configuração remota dos BSNs, escutando\\nsob um *socket* UDP gerenciado pela biblioteca *Ruffles* [ 12 ].\\nInicialmente, a ConfigurationAPI aguarda por *broadcasts* na\\nrede na porta 5556, contendo um *token* . Se este *token* recebido\\npelo *broadcast* for o esperado, este é enviado para o dispositivo de origem e imediatamente aguarda pela requisição de\\n\\nconexão.\\nApós conectado, a ConfigurationAPI aguarda por mensagens do cliente, respeitando o protocolo apresentado na\\nTabela 1. Os dados são separados do comando usando o\\n\\n\\n\\n|bela 1. Os dados são separad actere \"/\" como separador. Mensagem|Col2|dos do comando usando Dado Recebido|\\n|---|---|---|\\n|Mensagem||Dado Recebido|\\n|Servidor|Broadcast|Token de identifi- cação da aplicação|\\n||Connection|-|\\n||StartDiscovering|-|\\n||Connect|Endereço MAC|\\n||GetObjNames|-|\\n||SetObj|Endereço MAC e nome do objeto|\\n|Cliente|AllBsn|JSON contendo um resumo de todos os BSNs conectados|\\n||ObjNames|Lista dos nomes dos RotatableObjects disponíveis|\\n\\n\\n(c) Interface pronta para busca. (d) Interface com a busca iniciada. Na imagem há os três\\nestados do BSN: Desconectado,\\n\\nConectando e Conectado.\\n\\nFigure 1: Telas da interface do BSNAsset\\n\\nA classe UIController gerencia a entrada do usuário e projeta na interface de usuário as informações recebidas pelo\\nController. Ela trabalha em conjunto com a NetConfigurationClient, que se comunica em rede com a NetConfigurationServer. Inicialmente, a NetConfigurationServer envia\\nmensagens de *broadcast* na rede com o *token* da aplicação em\\nbusca de um servidor, que após receber é enviada uma requisição de conexão (passos 2 e 3 do diagrama de sequência).\\nEm seguida o cliente solicita a lista de RotatableObjects e os\\narmazena em uma lista (passo 4). A partir desse momento\\n\\n\\nTable 1: Mensagens que o servidor e cliente de configuração\\naguardam\\n### 3 RESULTADOS\\n\\nOs resultados deste trabalho consistem em implantações\\ndiretas do BsnAsset como alternativa de interação em projetos de RV, como o Mazze e o Simulador de Pênalti, duas\\naplicações que permitem demonstrar o funcionamento da\\nsolução tanto para membros superiores, quanto para membros inferiores. É apresentada também uma solução quer\\npermite a criação e gravação de sessões (no contexto de\\nneuroreabilitação/fisioterapia).\\n### 3.1 Mazze\\n\\nO *Mazze* é um jogo composto de um labirinto gerado aleatoriamente (obtido em [ 16 ]), dentro do qual são posicionadas\\n\\n\\n295\\n\\n\\n-----\\n\\nUm framework de rastreamento corporal para reabilitação neuromotora com suporte a aplicativos multimídia WebMedia’2024, Juiz de Fora, Brazil\\n\\nmoedas douradas e uma esfera (Figura 2). O objetivo do\\njogo é coletar todas as moedas no menor tempo possível,\\ndeslocando a esfera pelo labirinto.\\nDurante o jogo, o usuário rotaciona o BSN para controlar o\\nlabirinto, que também é rotacionado, reproduzindo de forma\\nfidedigna o movimento realizado pelo usuário, movendo a\\nesfera pelos corredores. O BSN deve ser posicionado horizontalmente, podendo estar situado no dorso ou palma da mão.\\nComo é utilizada apenas a rotação do dispositivo (ângulos\\nde Euler), o *BSNAsset* foi utilizado apenas da forma *plug-*\\n*and-play*, pois apenas necessita indicar que o labirinto deve\\nser controlado pelo dispositivo.\\n\\nFigure 3: Cenário do Simulador de Pênalti\\n\\nse aproxima da bola. Entretanto, como as animações foram\\ncriadas de forma determinística, os pontos que o goleiro\\nconsegue defender são limitados. Desta maneira, o profissional\\nda saúde pode usar o simulador para execução de exercícios\\nreferentes às pernas de forma lúdica.\\n### 3.3 Recorder e Recorder Controller\\n\\n\\nFigure 2: Estado inicial do jogo *Mazze*\\n\\nO Mazze pode ser utilizado em processos de reabilitação\\nmotora das mãos. Assim, o paciente estará se exercitando à\\nmedida que joga\\n### 3.2 Simulador de Pênalti\\n\\nO Simulador de Pênalti possibilitou o uso de todos os\\nrecursos disponibilizados pelo *BSNAsset* . Nesta aplicação,\\nsão utilizados os dados brutos do BSN, disponíveis via API\\ndo *asset* . O jogo consiste em um campo de futebol virtual\\ncom um goleiro e o usuário, como pode ser observado na\\nFigura 3.\\nDurante a simulação o usuário controla a perna e canela do\\navatar com um par de BSNs colocados na parte anterior da\\ncoxa (porção medial) e perna (porção distal), respectivamente.\\nA movimentação dos membros é feita utilizando o modo *plug-*\\n*and-play* do *asset*, que apenas indica no *Unity* que estes\\nobjetos devem ser controlados pelo BSN. Por sua vez, a força\\ndo chute é obtida a partir da API do *asset*, que fornece os\\ndados do acelerômetro do dispositivo.\\nNo momento em que o pé do avatar entra em contato\\ncom a bola, a força do chute é calculada multiplicando a\\naceleração obtida do acelerômetro do BSN por um valor\\npré-definido (representando a massa). Em seguida, a força é\\naplicada na bola como um impulso na mesma direção e em\\nsentido contrário à normal da colisão.\\n\\nA defesa do goleiro é feita calculando-se a posição em que a\\nbola chegará no gol usando equações de movimento balístico.\\nEm seguida, é disparada a animação em que o goleiro mais\\n\\n\\nO ReBase [ 17 ] foi criado para ser uma base de dados nãorelacional utilizada para armazenar sessões de reabilitação\\nneuromotora contendo informações da sessão e os movimentos executados pelo paciente durante o exercício. Em [ 17 ] é\\napresentado uma estrutura de armazenamento como também\\né fornecido uma API para gravação e recuperação desses\\ndados.\\n\\nVisando consumir essa API de gravação utilizando dados\\nde rotação de um avatar em 3D, foram criados dois *assets*,\\nsendo eles: Recorder, e Recorder Controller. Os *assets* são\\ndistribuidos em forma de pacotes que podem ser utilizados\\nde forma desacoplada em diferentes dispositivos, desde que\\nestejam sob a mesma rede LAN, ou no mesmo dispositivo,\\ncomo apresentado em 3.4.\\nA vantagem de se utilizar o Recorder Controller em um\\ndispositivo separado é permitir que aplicações em RV sejam\\nutilizadas pelo paciente através do uso de Óculos VR, uma\\nvez que o controle de gravação é feito remotamente.\\n\\n*3.3.1* *Recorder.* O Recorder é uma ferramenta criada para\\nreconhecer, interpolar e salvar os dados de rotação de um\\navatar 3D, podendo ser utilizada independente do método\\nde rastreamento corporal, desde que o avatar onde a movimentação for aplicada esteja dentro do padrão definido pelo\\nRecorder.\\nO fluxo de execução do Recorder inicia quando o comando\\nde iniciar a gravação da sessão de movimentos é recebido pelo\\nmódulo de comunicação em rede. Em seguida os dados são\\narmazenados com um *sample rate* igual à taxa de quadros\\n(ou Frames per second (FPS)) atual da aplicação.\\nUma vez que o ReBase não oferece possibilidade de gravar\\no timestamp juntamente com a amostra, é necessário fixar um\\n\\n\\n296\\n\\n\\n-----\\n\\nWebMedia’2024, Juiz de Fora, Brazil Ribeiro et al.\\n\\n\\n*sample rate* fixo, de modo que a recuperação dos dados gravados mantenha a velocidade real do movimento. Além disso,\\nsabemos que o FPS de uma aplicação depende diretamente\\ndo hardware que ela está sendo executada, impossibilitando\\no uso desses dados não confiáveis.\\nSendo assim, ao fim da gravação de um movimento, as\\namostras devem passar por um processo chamado de *resam-*\\n*pling* . Esse processo garante que independente do tamanho\\ndo array de entrada, a saída terá o tamanho especificado,\\nsendo necessário utilizar interpolação linear para garantir\\nsemelhança entre o array de entrada e o de saída.\\n### 3.4 Mobility Tests\\n\\nEm sua dissertação, Otoboni [13] realizou uma análise\\ncomparativa entre o sistema de rastreamento corporal ótico\\nVICON e a solução utilizando BSN. Seus testes se basearam\\nna execução da tarefa *Sit-to-Stand* que consiste em um exercício onde o paciente levanta e senta em uma cadeira sem apoio\\ndas mãos. Para esse comparativo, obteve-se os ângulos goniométricos do Quadril (ângulo formado no eixo látero-lateral\\npelo abdômen e coxa) e do Joelho (ângulo formado no eixo\\nlátero-lateral pela coxa e perna) obtidos por um conjunto\\nde 3 BSNs posicionadas no abdômen, coxa e perna (plano\\nfrontal) juntamente com as respectivas rotações obtidas pelo\\nVICON.\\n\\nSendo assim, surgiu-se a demanda de uma aplicação para\\ncaptura desses dados com os seguintes requisitos:\\n\\n*∙* Aplicação simples, sem RV;\\n*∙* possibilidade de conexão de 3 BSNs simultaneamente;\\n\\ne\\n\\n*∙* dados devem ser gravados em um arquivo no formato\\nCSV (comma-separated Values) contendo as informações\\nde rotação brutas (Acelerômetro e Giroscópio) e os valores dos ângulos goniométricos do quadril e do joelho.\\n\\nBuscando atender aos requisitos da demanda, foi criado\\no aplicativo BSN Mobility Tests, utilizando todos os assets\\ncriados anteriormente: BSNAsset, Recorder, Recorder Controller, todos funcionando em um único aparelho, uma vez\\nque não temos necessidade do paciente interagir com a aplicação. Além dos assets citados, um gravador de arquivos\\nCSV foi criado de modo que exportasse os dados da sessão\\nsimultaneamente com a gravação no ReBase.\\nFinalmente, Otoboni [13] apresenta uma correlação regular/forte entre as rotações em ambas as soluções, reafirmando\\na validade do uso de BSNs na área da saúde.\\n### 3.5 Body Tracking\\n\\nA partir da demanda do BSN Mobility Tests surgiu a\\nnecessidade da criação de uma aplicação que pudesse realizar o rastreamento corporal completo utilizando BSNs.\\nProporcionando gravação de dados de acelerômetro, giroscópio e rotação 3D, além de possibilitar a gravação de dados\\nde rotação de cada articulação do corpo humano (ângulos\\ngoniométricos).\\nA aplicação permite o usuário utilizar livremente as articulações do corpo humano, limitando o uso a grupos de\\n\\n\\narticulações: superior direito – braço direito, antebraço direito; superior esquerdo – braço esquerdo, antebraço esquerdo;\\ninferior direito – coxa direita, perna direita; e inferior esquerdo – coxa esquerda, perna esquerda.\\nOs BSNs devem ser posicionadas no corpo humano de\\nacordo com a Figura 4. Nos braços, os BSNs devem ser\\nposicionados com o led voltado para cima e com a face do\\ndispositivo voltada para fora do corpo. Nas pernas, as BSNs\\ndevem ser posicionadas com o led voltado para cima e com a\\nface do dispositivo voltada para frente do corpo.\\n\\n\\n(a) Posicionamento das\\n\\nBSNs nos\\n\\nbraços.\\n\\n\\n(b) Posicionamento das\\n\\nBSNs nas\\n\\npernas.\\n\\n\\nFigure 4: Posicionamento das BSNs no corpo humano.\\n\\n*3.5.1* *Gráficos.* A seguir, apresentaremos os gráficos gerados a partir dos dados coletados pelo BSN Body Tracking.\\nOs gráficos foram gerados utilizando o software Excel, e os\\ndados utilizados foram coletados de um usuário realizando\\nmovimentos de flexão e extensão dos membros superiores e\\ninferiores.\\n\\n*3.5.2* *Rosca direta.* A rosca direta é um exercício de muscu\\nlação que trabalha os músculos do bíceps braquial. O movimento consiste em flexionar o cotovelo, aproximando a mão\\ndo ombro. O movimento é realizado com os braços estendidos\\nao lado do corpo, com os cotovelos flexionados e os punhos\\nem supinação.\\nA coleta de dados foi realizada com o usuário realizando\\n\\num total de 10 repetições do exercício com o braço direito\\n(Figura 5a) e 10 repetições do exercício com o braço esquerdo\\n(Figura 5b).\\nNos gráficos da Figura 5 é possível observar que os ângulos goniométricos do cotovelo diminui conforme o usuário\\nrealiza a flexão do cotovelo, e aumenta conforme o usuário\\nrealiza a extensão do cotovelo, variando entre 180º e 90º,\\naproximadamente.\\nOs gráficos da Figura 6 representam os dados de acelerômetro coletados durante a execução do exercício. É possível observar que os dados de acelerômetro do braço direito\\ne do braço esquerdo são semelhantes, assim como os dados de\\n\\n\\n297\\n\\n\\n-----\\n\\nUm framework de rastreamento corporal para reabilitação neuromotora com suporte a aplicativos multimídia WebMedia’2024, Juiz de Fora, Brazil\\n\\n\\n(a) Rosca direta com o braço direito.\\n\\n(b) Rosca direta com o braço esquerdo.\\n\\nFigure 5: Gráficos goniométricos da rosca direta.\\n\\nacelerômetro do antebraço direito e do antebraço esquerdo.\\nOs acelerômetros de ambos antebraços apresentam valores\\nmais altos que os acelerômetros dos braços, pois os antebraços\\nexecutaram um movimento de rotação durante a execução\\ndo exercício, enquanto os braços permaneceram estáticos.\\n\\n*3.5.3* *Marcha estacionária.* A marcha estacionária é um exer\\ncício que consiste em simular a marcha sem sair do lugar. O\\nmovimento é realizado suspendendo o joelho até que fique\\nalinhado com o quadril, e em seguida voltando a posição\\ninicial.\\n\\nA coleta de dados foi realizada com o usuário realizando\\n\\num total de 10 repetições do exercício com a perna direita\\n7a e 10 repetições do exercício com a perna esquerda 7b.\\nNos gráficos da Figura 7 é possível observar que os ângulos\\ngoniométricos do joelho e do quadril diminuem conforme\\no usuário realiza a flexão do joelho, e aumenta conforme o\\nusuário realiza a extensão do joelho, variando entre 180º e\\n90º, aproximadamente.\\nOs gráficos da Figura 8 representam os dados de acelerômetro coletados durante a execução do exercício. É possível observar que os dados de acelerômetro da perna direita\\ne da perna esquerda são semelhantes, assim como os dados\\nde acelerômetro da canela direita e da canela esquerda. Os\\nacelerômetros de ambas as pernas fazem uma troca de eixo,\\nrepresentando uma rotação do dispositivo. Em contrapartida,\\nos acelerômetros das canelas não apresentam rotação, porém\\n\\n\\n(a) Acelerômetro do braço direito\\n\\n(b) Acelerômetro do braço esquerdo\\n\\n(c) Acelerômetro do antebraço direito\\n\\n(d) Acelerômetro do antebraço esquerdo\\n\\nFigure 6: Gráficos de acelerômetro da rosca direta\\n\\napresentaram variações nos eixos Y e Z, causados pelo movimento de sobe e desce da canela.\\n\\n\\n298\\n\\n\\n-----\\n\\nWebMedia’2024, Juiz de Fora, Brazil Ribeiro et al.\\n\\n\\n(a) Marcha estacionária com a perna direita\\n\\n(b) Marcha estacionária com a perna esquerda\\n\\nFigure 7: Gráficos da marcha estacionária\\n### 4 CONCLUSÕES E TRABALHOS FUTUROS\\n\\nCom o crescimento da RV presente nas casas e consultórios\\nmédicos, ela se mostra um excelente incentivo para o exercício\\nfísico e ajuda na reabilitação de pacientes com dificuldades\\nneuromotoras causadas por várias patologias (como o acidente vascular cerebral). A inevitabilidade de criar inúmeras\\naplicações para uso específico se torna uma grande possibilidade. Entretanto, embora os óculos de RV facilitem e\\ntornem a imersão mais acessível, um método de interação\\nnatural ainda é visto como um desafio no desenvolvimento\\nde aplicações de RV.\\nA necessidade de criar um método de interação natural\\nque seja suficientemente genérico para funcionar em várias\\naplicações de RV e que ofereça espaço para a inserção de\\nparticularidades de cada projeto tem governado este trabalho\\ne incentivado a criação do BSNAsset.\\nPropusemos e desenvolvemos um asset que nos permite\\nrealizar a conexão de múltiplos dispositivos, rastrear o corpo\\nhumano e mover um avatar virtual. A solução desenvolvida\\né fácil de importar e usar em qualquer projeto da Unity.\\nComo mostramos, é possível gerar aplicações de rastreamento\\ncorporal completo, interagindo com membros superiores e\\ninferiores.\\n### AGRADECIMENTOS\\n\\nOs autores agradecem o financiamento em parte pela Coordenação de Aperfeiçoamento de Pessoal de Nível Superior \\n\\n(a) Acelerômetro da perna direita\\n\\n(b) Acelerômetro da perna esquerda\\n\\n(c) Acelerômetro da canela direita\\n\\n(d) Acelerômetro da canela esquerda\\n\\nFigure 8: Gráficos de acelerômetro da marcha estacionária\\n\\nBrasil (CAPES) - Código de Financiamento 001, Conselho\\nNacional de Desenvolvimento Científico e Tecnológico (CNPq)\\ne a Fundação de Amparo à Pesquisa do Estado de Minas\\n\\n\\n299\\n\\n\\n-----\\n\\nUm framework de rastreamento corporal para reabilitação neuromotora com suporte a aplicativos multimídia WebMedia’2024, Juiz de Fora, Brazil\\n\\n\\nGerais (FAPEMIG). Também agradecemos à Fundação de\\nAmparo à Pesquisa e Inovação do Espírito Santo (FAPES) pelos recursos disponibilizados através dos projetos PROAPEM\\n(368/2022 - P: 2022-NGKM5) e PDPG (129/2021 - P: 2021GL60J), fundamentais para a realização deste trabalho.\\n### REFERENCES\\n\\n[1] Alberto Luiz Aramaki, Rosana Ferreira Sampaio, Ana Caroline Silva Reis, Alessandra Cavalcanti, et al . 2019. Virtual reality\\nin the rehabilitation of patients with stroke: an integrative review.\\n*Arquivos de neuro-psiquiatria* 77 (2019), 268–278.\\n\\n[2] Alexandre Fonseca Brandão, Diego Roberto Colombo\\nDias, Sávyo Toledo Machado Reis, Clovis Magri Cabreira,\\nMaria Cecilia Moraes Frade, Thomas Beltrame, Marcelo de\\nPaiva Guimarães, and Gabriela Castellano. 2020. Biomechanics\\nSensor Node for Virtual Reality: A Wearable Device Applied\\nto Gait Recovery for Neurofunctional Rehabilitation. In *In-*\\n*ternational Conference on Computational Science and Its*\\n*Applications* . Springer, 757–770.\\n\\n[3] Desiderio Cano Porras, Petra Siemonsma, Rivka Inzelberg,\\nGabriel Zeilig, and Meir Plotnik. 2018. Advantages of virtual reality in the rehabilitation of balance and gait. *Neu-*\\n*rology* 90, 22 (2018), 1017–1025. https://doi.org/10.1212/\\nWNL.0000000000005603 Publisher: Wolters Kluwer Health, Inc.\\non behalf of the American Academy of Neurology _eprint:\\nhttps://n.neurology.org/content/90/22/1017.full.pdf.\\n\\n[4] Gisela Miranda Difini, Marcio Garcia Martins, and Jorge Luis Victória Barbosa. 2021. Human pose estimation for training assistance: a systematic literature review. In *Proceedings of the*\\n*Brazilian Symposium on Multimedia and the Web* . 189–196.\\n\\n[5] M P Guimaraes, V F Martins, G J C Brasil, and L C Trevelin.\\n2011. Um Modelo de Processo de Desenvolvimento de Interfaces de\\nGesto: Definição e um Estudo de Caso. In *XXXVII Conferencia*\\n*Latinoamericana de Informática (CLEI)*, Vol. 1. 378–390.\\n\\n[6] P C Hallal, A E Bauman, G W Heath, H W Kohl, I-Min Lee, and\\nM Pratt. 2012. Physical activity: more of the same is not enough.\\n*Lancet* 380 (2012), 189–190.\\n\\n[7] J Kesselring. 2001. Neurorehabilitation: a bridge between basic\\nscience and clinical practice. *European journal of neurology* 8, 3\\n(2001), 221–225.\\n\\n[8] A E Maloney, K A Threlkeld, and W L Cook. 2012. Comparative effectiveness of a 12-week physical activity intervention for\\noverweight and obese youth: Exergaming with “Dance Dance Revolution. *Games for health journal: Research, development and*\\n*clinical applications* (2012), 1–8.\\n\\n[9] D C Malta and J B Silva. 2012. Policies to promote physical\\nactivity in Brazil. *Lancet* 380 (2012), 195–196.\\n\\n[10] Alfredo Manuli, Maria Grazia Maggio, Daniele Tripoli, Martina\\nGullì, Antonino Cannavò, Gianluca La Rosa, Francesca Sciarrone,\\nGiuseppe Avena, and Rocco Salvatore Calabrò. 2020. Patients’\\nperspective and usability of innovation technology in a new rehabilitation pathway: An exploratory study in patients with multiple\\nsclerosis. *Multiple sclerosis and related disorders* 44 (2020),\\n102312.\\n\\n[11] Michsky. 2021. Modern UI Pack. https://assetstore.unity.com/\\npackages/tools/gui/modern-ui-pack-150824\\n\\n[12] MidLevel. 2021. Ruffles. https://github.com/MidLevel/Ruffles\\n\\n[13] Gabriele Biscegli Otoboni. 2022. *Comparação entre sensores*\\n*inerciais e sistema de análise de movimento VI na avaliação*\\n*da tarefa de Sit-to-Stand em adultos jovens saudáveis* . Master’s\\nthesis. Escola de Engenharia de São Carlos (EESC-USP).\\n\\n[14] Alexandra Pfister, Alexandre M West, Shaw Bronner, and\\nJack Adam Noah. 2014. Comparative abilities of Microsoft Kinect\\nand Vicon 3D motion capture for gait analysis. *Journal of medical*\\n*engineering & technology* 38, 5 (2014), 274–280.\\n\\n[15] Luis GS Rodrigues, Diego RC Dias, Marcelo P Guimarães, Alexandre F Brandão, Leonardo CD Rocha, Rogério L Iope, and José RF\\nBrega. 2021. Upper limb motion tracking and classification: A\\nsmartphone approach. In *Proceedings of the Brazilian Symposium*\\n*on Multimedia and the Web* . 61–64.\\n\\n[16] styanton. 2021. Maze Generator. https://assetstore.unity.com/\\npackages/tools/modeling/maze-generator-38689\\n\\n[17] Tiago Trotta Lara Barbosa, Marcelo de Paiva Guimarães, Alexandre Fonseca Brandão, Leonardo Chaves Dutra da Rocha, Rogerio Luiz Iope, José Remo Ferreira Brega, and Diego Roberto\\n\\n\\nColombo Dias. 2021. ReBase: Data Acquisition and Management System for Neuromotor Rehabilitation Supported by Virtual and Augmented Reality. In *Symposium on Virtual and*\\n*Augmented Reality* (Virtual Event, Brazil) *(SVR’21)* . Association for Computing Machinery, New York, NY, USA, 182–186.\\nhttps://doi.org/10.1145/3488162.3488225\\n\\n\\n300\\n\\n\\n-----\\n\\n'"
      ]
     },
     "execution_count": 4,
     "metadata": {},
     "output_type": "execute_result"
    }
   ],
   "execution_count": 4
  },
  {
   "metadata": {},
   "cell_type": "markdown",
   "source": [
    "Título:\tTemplate JSON para CORPUS\n",
    "Conteúdo:\n",
    "{\n",
    "\n",
    "            \"titulo\": \"Título do Artigo\",\n",
    "\n",
    "            \"informacoes_url\": \"link pro artigo\",\n",
    "\n",
    "            \"idioma\": \"Inglês/Português\",\n",
    "\n",
    "            \"storage_key\": \"files/article_x.pdf\",\n",
    "\n",
    "            \"autores\": [\n",
    "\n",
    "                {\n",
    "\n",
    "                    \"nome\": \"autor 1\",\n",
    "\n",
    "                    \"afiliacao\": \"Universidade x\",\n",
    "\n",
    "                    \"orcid\": \"http://orcid.org/xxxx-xxxx-xxxx-xxxx\"\n",
    "\n",
    "                },\n",
    "\n",
    "                {\n",
    "\n",
    "                    \"nome\": \"autor 2\",\n",
    "\n",
    "                    \"afiliacao\": \"Universidade x\",\n",
    "\n",
    "                    \"orcid\": \"http://orcid.org/xxxx-xxxx-xxxx-xxxx\"\n",
    "\n",
    "                }\n",
    "\n",
    "            ],\n",
    "\n",
    "            \"data_publicacao\": \"xx/xx/xxxx\",\n",
    "\n",
    "            \"resumo\": \"Abstract do artigo\",\n",
    "\n",
    "            \"keywords\": [\n",
    "\n",
    "                \"keyword1\",\n",
    "\n",
    "                \"keyword2\",\n",
    "\n",
    "                \"keyword3\"\n",
    "\n",
    "            ],\n",
    "\n",
    "            \"referencias\": [\n",
    "\n",
    "                \"ref1\",\n",
    "\n",
    "                \"ref2\",\n",
    "\n",
    "                \"ref3\"\n",
    "\n",
    "                ],\n",
    "\n",
    "            \"artigo_completo\": \"Artigo\"\n",
    "\n",
    "            \"artigo_tokenizado\": [\"token1\",\"token2\",...,\"tokenN\"]\n",
    "\n",
    "            \"pos_tagger\": [\"TAG_token1\",\"TAG_token2\",...,\"TAG_tokenN]\n",
    "\n",
    "            \"lema\": [\"Lema_1\",\"Lema_2\",...\"Lema_N\"]\n",
    "\n",
    "\n",
    "\n",
    "        }\n"
   ],
   "id": "8542e778f823ab55"
  },
  {
   "metadata": {},
   "cell_type": "code",
   "outputs": [],
   "execution_count": null,
   "source": "",
   "id": "c392368fd198150"
  }
 ],
 "metadata": {
  "kernelspec": {
   "display_name": "Python 3",
   "language": "python",
   "name": "python3"
  },
  "language_info": {
   "codemirror_mode": {
    "name": "ipython",
    "version": 2
   },
   "file_extension": ".py",
   "mimetype": "text/x-python",
   "name": "python",
   "nbconvert_exporter": "python",
   "pygments_lexer": "ipython2",
   "version": "2.7.6"
  }
 },
 "nbformat": 4,
 "nbformat_minor": 5
}
