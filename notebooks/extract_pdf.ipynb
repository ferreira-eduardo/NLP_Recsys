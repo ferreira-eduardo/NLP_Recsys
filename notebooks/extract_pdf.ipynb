{
 "cells": [
  {
   "metadata": {},
   "cell_type": "markdown",
   "source": [
    "- No arquivo process_pdfs tem toda a lógica. A falta a parte de tokenização, lematização e pos tagger. Isso pode ser feito com o *spacy*.\n",
    "- Além disso, no texto precisa remover alguns simbolos como: * \\n  ## e outros\n",
    "- Resolvi ir limpando o texto em partes devido aos padrões de cada seção do artigo."
   ],
   "id": "f6be318916239fb9"
  },
  {
   "cell_type": "code",
   "id": "initial_id",
   "metadata": {
    "collapsed": true,
    "ExecuteTime": {
     "end_time": "2025-04-29T11:27:04.004434Z",
     "start_time": "2025-04-29T11:27:02.018762Z"
    }
   },
   "source": [
    "import json\n",
    "from process_text import process_pdfs"
   ],
   "outputs": [],
   "execution_count": 1
  },
  {
   "metadata": {
    "ExecuteTime": {
     "end_time": "2025-04-29T11:30:26.105406Z",
     "start_time": "2025-04-29T11:27:05.177460Z"
    }
   },
   "cell_type": "code",
   "source": [
    "#%%\n",
    "path_in = ['../articles/original/english', '../articles/original/portuguese']\n",
    "path_out = '../corpus'"
   ],
   "id": "e474284f7aed6ec2",
   "outputs": [
    {
     "name": "stdout",
     "output_type": "stream",
     "text": [
      "Processing: ../articles/original/english/985-24769-1-10-20240923.pdf\n",
      "Processing: ../articles/original/english/985-24738-1-10-20240923.pdf\n",
      "Processing: ../articles/original/english/985-24747-1-10-20240923.pdf\n",
      "Processing: ../articles/original/english/985-24745-1-10-20240923.pdf\n",
      "Processing: ../articles/original/english/985-24746-1-10-20240923.pdf\n",
      "Processing: ../articles/original/english/985-24756-1-10-20240923.pdf\n",
      "Processing: ../articles/original/english/985-24754-1-10-20240923.pdf\n",
      "Processing: ../articles/original/english/985-24776-1-10-20240923.pdf\n",
      "Processing: ../articles/original/english/985-24759-1-10-20240923.pdf\n",
      "Processing: ../articles/original/english/985-24764-1-10-20240923.pdf\n",
      "Processing: ../articles/original/english/985-24758-1-10-20240923.pdf\n",
      "Processing: ../articles/original/english/985-24766-1-10-20240923.pdf\n",
      "Processing: ../articles/original/english/985-24762-1-10-20240923.pdf\n",
      "Processing: ../articles/original/english/985-24767-1-10-20240923.pdf\n",
      "Processing: ../articles/original/english/985-24752-1-10-20240923.pdf\n",
      "Processing: ../articles/original/english/985-24755-1-10-20240923.pdf\n",
      "Processing: ../articles/original/english/985-24740-1-10-20240923.pdf\n",
      "Processing: ../articles/original/english/985-24741-1-10-20240923.pdf\n",
      "Processing: ../articles/original/english/985-24739-1-10-20240923.pdf\n",
      "Processing: ../articles/original/english/985-24750-1-10-20240923.pdf\n",
      "Processing: ../articles/original/english/985-24751-1-10-20240923.pdf\n",
      "Processing: ../articles/original/english/985-24737-1-10-20240923.pdf\n",
      "Processing: ../articles/original/english/985-24768-1-10-20240923.pdf\n",
      "Processing: ../articles/original/portuguese/985-24772-1-10-20240923.pdf\n",
      "Processing: ../articles/original/portuguese/985-24774-1-10-20240923.pdf\n",
      "Processing: ../articles/original/portuguese/985-24763-2-10-20241004.pdf\n",
      "Processing: ../articles/original/portuguese/985-24749-1-10-20240923.pdf\n",
      "Processing: ../articles/original/portuguese/985-24773-1-10-20240923.pdf\n",
      "Processing: ../articles/original/portuguese/985-24757-1-10-20240923.pdf\n",
      "Processing: ../articles/original/portuguese/985-24775-1-10-20240923.pdf\n",
      "Processing: ../articles/original/portuguese/985-24753-2-10-20241004.pdf\n",
      "Processing: ../articles/original/portuguese/985-24761-1-10-20240923.pdf\n",
      "Processing: ../articles/original/portuguese/985-24748-1-10-20240923.pdf\n",
      "Processing: ../articles/original/portuguese/985-24770-1-10-20240923.pdf\n",
      "Processing: ../articles/original/portuguese/985-24771-2-10-20240925.pdf\n",
      "Processing: ../articles/original/portuguese/985-24743-1-10-20240923.pdf\n",
      "Processing: ../articles/original/portuguese/985-24742-1-10-20240923.pdf\n",
      "Processing: ../articles/original/portuguese/985-24744-1-10-20240923.pdf\n",
      "Processing: ../articles/original/portuguese/985-24760-1-10-20240923.pdf\n",
      "Processing: ../articles/original/portuguese/985-24765-1-10-20240923.pdf\n",
      "Finished processing\n"
     ]
    }
   ],
   "execution_count": 2
  },
  {
   "metadata": {
    "ExecuteTime": {
     "end_time": "2025-04-29T11:08:39.798365Z",
     "start_time": "2025-04-29T11:08:39.609098Z"
    }
   },
   "cell_type": "code",
   "source": [
    "#%%\n",
    "with open('../corpus/corpus.json', \"rb\") as f:"
   ],
   "id": "4b38dbf1afb5c232",
   "outputs": [],
   "execution_count": 3
  },
  {
   "metadata": {
    "ExecuteTime": {
     "end_time": "2025-04-29T11:21:07.875636Z",
     "start_time": "2025-04-29T11:21:07.872980Z"
    }
   },
   "cell_type": "code",
   "source": [
    "#%%\n",
    "type(corpus[1]['author'])\n",
    "#%%\n",
    "import pymupdf4llm\n"
   ],
   "id": "ab6ea8721452205a",
   "outputs": [
    {
     "data": {
      "text/plain": [
       "str"
      ]
     },
     "execution_count": 36,
     "metadata": {},
     "output_type": "execute_result"
    }
   ],
   "execution_count": 36
  },
  {
   "metadata": {
    "ExecuteTime": {
     "end_time": "2025-04-29T11:19:41.680773Z",
     "start_time": "2025-04-29T11:19:39.766555Z"
    }
   },
   "cell_type": "code",
   "source": "",
   "id": "6b64bab290d63f85",
   "outputs": [],
   "execution_count": 33
  },
  {
   "metadata": {},
   "cell_type": "markdown",
   "source": [
    "#%%\n",
    "def extract_emails(text):\n",
    "    \"\"\"\n",
    "    Return a list of all e-mail addresses found in `text`.\n",
    "    \"\"\"\n",
    "    pattern = r'[A-Za-z0-9._%+-]+@[A-Za-z0-9.-]+\\.[A-Za-z]{2,}'\n",
    "    return re.findall(pattern, text)\n",
    "#%%\n",
    "print(extract_emails(text))\n",
    "#%% md\n",
    "Título:\tTemplate JSON para CORPUS\n",
    "Conteúdo:\n",
    "{\n",
    "\n",
    "            \"titulo\": \"Título do Artigo\",\n",
    "\n",
    "            \"informacoes_url\": \"link pro artigo\",\n",
    "\n",
    "            \"idioma\": \"Inglês/Português\",\n",
    "\n",
    "            \"storage_key\": \"files/article_x.pdf\",\n",
    "\n",
    "            \"autores\": [\n",
    "\n",
    "                {\n",
    "\n",
    "                    \"nome\": \"autor 1\",\n",
    "\n",
    "                    \"afiliacao\": \"Universidade x\",\n",
    "\n",
    "                    \"orcid\": \"http://orcid.org/xxxx-xxxx-xxxx-xxxx\"\n",
    "\n",
    "                },\n",
    "\n",
    "                {\n",
    "\n",
    "                    \"nome\": \"autor 2\",\n",
    "\n",
    "                    \"afiliacao\": \"Universidade x\",\n",
    "\n",
    "                    \"orcid\": \"http://orcid.org/xxxx-xxxx-xxxx-xxxx\"\n",
    "\n",
    "                }\n",
    "\n",
    "            ],\n",
    "\n",
    "            \"data_publicacao\": \"xx/xx/xxxx\",\n",
    "\n",
    "            \"resumo\": \"Abstract do artigo\",\n",
    "\n",
    "            \"keywords\": [\n",
    "\n",
    "                \"keyword1\",\n",
    "\n",
    "                \"keyword2\",\n",
    "\n",
    "                \"keyword3\"\n",
    "\n",
    "            ],\n",
    "\n",
    "            \"referencias\": [\n",
    "\n",
    "                \"ref1\",\n",
    "\n",
    "                \"ref2\",\n",
    "\n",
    "                \"ref3\""
   ],
   "id": "3094c288ce5cc54e"
  },
  {
   "metadata": {
    "ExecuteTime": {
     "end_time": "2025-04-29T11:19:42.197536Z",
     "start_time": "2025-04-29T11:19:42.193819Z"
    }
   },
   "cell_type": "code",
   "source": [
    "                ],\n",
    "\n",
    "            \"artigo_completo\": \"Artigo\"\n",
    "\n",
    "            \"artigo_tokenizado\": [\"token1\",\"token2\",...,\"tokenN\"]\n",
    "\n",
    "            \"pos_tagger\": [\"TAG_token1\",\"TAG_token2\",...,\"TAG_tokenN]\n",
    "\n",
    "            \"lema\": [\"Lema_1\",\"Lema_2\",...\"Lema_N\"]\n",
    "\n",
    "\n",
    "\n",
    "        }\n",
    "\n",
    "#%%\n"
   ],
   "id": "255379b5a37de10",
   "outputs": [
    {
     "name": "stdout",
     "output_type": "stream",
     "text": [
      "['fventuraq@midiacom.uff.br', 'debora@midiacom.uff.br', 'anselmo@midiacom.uff.br', 'fdelicato@ic.uff.br']\n"
     ]
    }
   ],
   "execution_count": 35
  },
  {
   "metadata": {},
   "cell_type": "markdown",
   "source": [
    "Título:\tTemplate JSON para CORPUS\n",
    "Conteúdo:\n",
    "{\n",
    "\n",
    "            \"titulo\": \"Título do Artigo\",\n",
    "\n",
    "            \"informacoes_url\": \"link pro artigo\",\n",
    "\n",
    "            \"idioma\": \"Inglês/Português\",\n",
    "\n",
    "            \"storage_key\": \"files/article_x.pdf\",\n",
    "\n",
    "            \"autores\": [\n",
    "\n",
    "                {\n",
    "\n",
    "                    \"nome\": \"autor 1\",\n",
    "\n",
    "                    \"afiliacao\": \"Universidade x\",\n",
    "\n",
    "                    \"orcid\": \"http://orcid.org/xxxx-xxxx-xxxx-xxxx\"\n",
    "\n",
    "                },\n",
    "\n",
    "                {\n",
    "\n",
    "                    \"nome\": \"autor 2\",\n",
    "\n",
    "                    \"afiliacao\": \"Universidade x\",\n",
    "\n",
    "                    \"orcid\": \"http://orcid.org/xxxx-xxxx-xxxx-xxxx\"\n",
    "\n",
    "                }\n",
    "\n",
    "            ],\n",
    "\n",
    "            \"data_publicacao\": \"xx/xx/xxxx\",\n",
    "\n",
    "            \"resumo\": \"Abstract do artigo\",\n",
    "\n",
    "            \"keywords\": [\n",
    "\n",
    "                \"keyword1\",\n",
    "\n",
    "                \"keyword2\",\n",
    "\n",
    "                \"keyword3\"\n",
    "\n",
    "            ],\n",
    "\n",
    "            \"referencias\": [\n",
    "\n",
    "                \"ref1\",\n",
    "\n",
    "                \"ref2\",\n",
    "\n",
    "                \"ref3\"\n",
    "\n",
    "                ],\n",
    "\n",
    "            \"artigo_completo\": \"Artigo\"\n",
    "\n",
    "            \"artigo_tokenizado\": [\"token1\",\"token2\",...,\"tokenN\"]\n",
    "\n",
    "            \"pos_tagger\": [\"TAG_token1\",\"TAG_token2\",...,\"TAG_tokenN]\n",
    "\n",
    "            \"lema\": [\"Lema_1\",\"Lema_2\",...\"Lema_N\"]\n",
    "\n",
    "\n",
    "\n",
    "        }\n"
   ],
   "id": "8542e778f823ab55"
  },
  {
   "metadata": {},
   "cell_type": "code",
   "outputs": [],
   "execution_count": null,
   "source": "",
   "id": "c392368fd198150"
  }
 ],
 "metadata": {
  "kernelspec": {
   "display_name": "Python 3",
   "language": "python",
   "name": "python3"
  },
  "language_info": {
   "codemirror_mode": {
    "name": "ipython",
    "version": 2
   },
   "file_extension": ".py",
   "mimetype": "text/x-python",
   "name": "python",
   "nbconvert_exporter": "python",
   "pygments_lexer": "ipython2",
   "version": "2.7.6"
  }
 },
 "nbformat": 4,
 "nbformat_minor": 5
}
